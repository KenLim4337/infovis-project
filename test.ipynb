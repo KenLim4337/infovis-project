{
 "cells": [
  {
   "cell_type": "code",
   "execution_count": 7,
   "metadata": {
    "collapsed": true,
    "pycharm": {
     "name": "#%%\n"
    }
   },
   "outputs": [],
   "source": [
    "import pandas as pd\n",
    "import os\n",
    "import sys\n",
    "\n",
    "sys.path.append(os.path.abspath('..'))"
   ]
  },
  {
   "cell_type": "code",
   "execution_count": 14,
   "outputs": [],
   "source": [
    "df = pd.read_json('../project/yelp_data/yelp_academic_dataset_business.json', lines=True)\n",
    "\n",
    "df.drop(['address','postal_code','latitude','longitude'], axis=1, inplace=True)"
   ],
   "metadata": {
    "collapsed": false,
    "pycharm": {
     "name": "#%%\n"
    }
   }
  },
  {
   "cell_type": "code",
   "execution_count": null,
   "outputs": [],
   "source": [
    "\n",
    "df['hours'].mode()"
   ],
   "metadata": {
    "collapsed": false,
    "pycharm": {
     "name": "#%%\n",
     "is_executing": true
    }
   }
  },
  {
   "cell_type": "code",
   "execution_count": 18,
   "outputs": [
    {
     "data": {
      "text/plain": "                   business_id                           name            city  \\\n7       qkRM_2X51Yqxk3btlwAQIg                 Temple Beth-El  St. Petersburg   \n18      8wGISYjYkE2tSqn3cDMu8A               Nifty Car Rental          Kenner   \n25      PSo_C1Sfa13JHjzVNW6ziQ  Indian Walk Veterinary Center         Newtown   \n42      lwItZ1Ck3KtpCgG4CPFmpQ  Stomel Elliot Attorney-At-Law     Cherry Hill   \n51      REwfwz-_-CMQ7Np5UVi9Qg                 Jennie Deckert          Carmel   \n...                        ...                            ...             ...   \n150300  9RGR4_r4PJLTooNmscUE_A        Roger's Chevron Service     New Orleans   \n150302  DMYTGaunth3BMi7SmQEdvQ            PetSuites Greenwood       Greenwood   \n150308  -a7VXX0-V9LgWMFrq90iNA               Delran Auto Body          Delran   \n150332  t_SGoRT5yt14OWr64TOulA        Sherwood Park Kwik Lube   Sherwood Park   \n150337  x_2IrYgFiQn7GOTTgWRbAw           The Vac & Sew Center        Voorhees   \n\n       state  stars  review_count  is_open attributes  \\\n7         FL    3.5             5        1       None   \n18        LA    3.5            14        1       None   \n25        PA    5.0            15        1       None   \n42        NJ    5.0             5        1       None   \n51        IN    5.0             7        1       None   \n...      ...    ...           ...      ...        ...   \n150300    LA    4.0             5        1       None   \n150302    IN    4.0            17        1       None   \n150308    NJ    3.5             5        1       None   \n150332    AB    5.0             5        1       None   \n150337    NJ    4.0             5        0       None   \n\n                                               categories  \\\n7                     Synagogues, Religious Organizations   \n18      Automotive, Car Rental, Hotels & Travel, Truck...   \n25        Pet Services, Pet Groomers, Pets, Veterinarians   \n42      DUI Law, Professional Services, Lawyers, Crimi...   \n51         Real Estate Agents, Home Services, Real Estate   \n...                                                   ...   \n150300                           Automotive, Gas Stations   \n150302  Pet Groomers, Pets, Pet Services, Pet Boarding...   \n150308                             Body Shops, Automotive   \n150332       Oil Change Stations, Automotive, Auto Repair   \n150337  Appliances & Repair, Home & Garden, Appliances...   \n\n                                                    hours  \n7       {'Monday': '9:0-17:0', 'Tuesday': '9:0-17:0', ...  \n18      {'Monday': '8:0-17:0', 'Tuesday': '8:0-17:0', ...  \n25      {'Monday': '8:0-19:0', 'Tuesday': '8:0-19:0', ...  \n42      {'Monday': '0:0-0:0', 'Tuesday': '0:0-0:0', 'W...  \n51                                                   None  \n...                                                   ...  \n150300                                               None  \n150302  {'Monday': '0:0-0:0', 'Tuesday': '6:30-20:0', ...  \n150308  {'Monday': '9:0-17:0', 'Tuesday': '9:0-17:0', ...  \n150332                                               None  \n150337  {'Monday': '9:30-18:0', 'Tuesday': '9:30-18:0'...  \n\n[13744 rows x 10 columns]",
      "text/html": "<div>\n<style scoped>\n    .dataframe tbody tr th:only-of-type {\n        vertical-align: middle;\n    }\n\n    .dataframe tbody tr th {\n        vertical-align: top;\n    }\n\n    .dataframe thead th {\n        text-align: right;\n    }\n</style>\n<table border=\"1\" class=\"dataframe\">\n  <thead>\n    <tr style=\"text-align: right;\">\n      <th></th>\n      <th>business_id</th>\n      <th>name</th>\n      <th>city</th>\n      <th>state</th>\n      <th>stars</th>\n      <th>review_count</th>\n      <th>is_open</th>\n      <th>attributes</th>\n      <th>categories</th>\n      <th>hours</th>\n    </tr>\n  </thead>\n  <tbody>\n    <tr>\n      <th>7</th>\n      <td>qkRM_2X51Yqxk3btlwAQIg</td>\n      <td>Temple Beth-El</td>\n      <td>St. Petersburg</td>\n      <td>FL</td>\n      <td>3.5</td>\n      <td>5</td>\n      <td>1</td>\n      <td>None</td>\n      <td>Synagogues, Religious Organizations</td>\n      <td>{'Monday': '9:0-17:0', 'Tuesday': '9:0-17:0', ...</td>\n    </tr>\n    <tr>\n      <th>18</th>\n      <td>8wGISYjYkE2tSqn3cDMu8A</td>\n      <td>Nifty Car Rental</td>\n      <td>Kenner</td>\n      <td>LA</td>\n      <td>3.5</td>\n      <td>14</td>\n      <td>1</td>\n      <td>None</td>\n      <td>Automotive, Car Rental, Hotels &amp; Travel, Truck...</td>\n      <td>{'Monday': '8:0-17:0', 'Tuesday': '8:0-17:0', ...</td>\n    </tr>\n    <tr>\n      <th>25</th>\n      <td>PSo_C1Sfa13JHjzVNW6ziQ</td>\n      <td>Indian Walk Veterinary Center</td>\n      <td>Newtown</td>\n      <td>PA</td>\n      <td>5.0</td>\n      <td>15</td>\n      <td>1</td>\n      <td>None</td>\n      <td>Pet Services, Pet Groomers, Pets, Veterinarians</td>\n      <td>{'Monday': '8:0-19:0', 'Tuesday': '8:0-19:0', ...</td>\n    </tr>\n    <tr>\n      <th>42</th>\n      <td>lwItZ1Ck3KtpCgG4CPFmpQ</td>\n      <td>Stomel Elliot Attorney-At-Law</td>\n      <td>Cherry Hill</td>\n      <td>NJ</td>\n      <td>5.0</td>\n      <td>5</td>\n      <td>1</td>\n      <td>None</td>\n      <td>DUI Law, Professional Services, Lawyers, Crimi...</td>\n      <td>{'Monday': '0:0-0:0', 'Tuesday': '0:0-0:0', 'W...</td>\n    </tr>\n    <tr>\n      <th>51</th>\n      <td>REwfwz-_-CMQ7Np5UVi9Qg</td>\n      <td>Jennie Deckert</td>\n      <td>Carmel</td>\n      <td>IN</td>\n      <td>5.0</td>\n      <td>7</td>\n      <td>1</td>\n      <td>None</td>\n      <td>Real Estate Agents, Home Services, Real Estate</td>\n      <td>None</td>\n    </tr>\n    <tr>\n      <th>...</th>\n      <td>...</td>\n      <td>...</td>\n      <td>...</td>\n      <td>...</td>\n      <td>...</td>\n      <td>...</td>\n      <td>...</td>\n      <td>...</td>\n      <td>...</td>\n      <td>...</td>\n    </tr>\n    <tr>\n      <th>150300</th>\n      <td>9RGR4_r4PJLTooNmscUE_A</td>\n      <td>Roger's Chevron Service</td>\n      <td>New Orleans</td>\n      <td>LA</td>\n      <td>4.0</td>\n      <td>5</td>\n      <td>1</td>\n      <td>None</td>\n      <td>Automotive, Gas Stations</td>\n      <td>None</td>\n    </tr>\n    <tr>\n      <th>150302</th>\n      <td>DMYTGaunth3BMi7SmQEdvQ</td>\n      <td>PetSuites Greenwood</td>\n      <td>Greenwood</td>\n      <td>IN</td>\n      <td>4.0</td>\n      <td>17</td>\n      <td>1</td>\n      <td>None</td>\n      <td>Pet Groomers, Pets, Pet Services, Pet Boarding...</td>\n      <td>{'Monday': '0:0-0:0', 'Tuesday': '6:30-20:0', ...</td>\n    </tr>\n    <tr>\n      <th>150308</th>\n      <td>-a7VXX0-V9LgWMFrq90iNA</td>\n      <td>Delran Auto Body</td>\n      <td>Delran</td>\n      <td>NJ</td>\n      <td>3.5</td>\n      <td>5</td>\n      <td>1</td>\n      <td>None</td>\n      <td>Body Shops, Automotive</td>\n      <td>{'Monday': '9:0-17:0', 'Tuesday': '9:0-17:0', ...</td>\n    </tr>\n    <tr>\n      <th>150332</th>\n      <td>t_SGoRT5yt14OWr64TOulA</td>\n      <td>Sherwood Park Kwik Lube</td>\n      <td>Sherwood Park</td>\n      <td>AB</td>\n      <td>5.0</td>\n      <td>5</td>\n      <td>1</td>\n      <td>None</td>\n      <td>Oil Change Stations, Automotive, Auto Repair</td>\n      <td>None</td>\n    </tr>\n    <tr>\n      <th>150337</th>\n      <td>x_2IrYgFiQn7GOTTgWRbAw</td>\n      <td>The Vac &amp; Sew Center</td>\n      <td>Voorhees</td>\n      <td>NJ</td>\n      <td>4.0</td>\n      <td>5</td>\n      <td>0</td>\n      <td>None</td>\n      <td>Appliances &amp; Repair, Home &amp; Garden, Appliances...</td>\n      <td>{'Monday': '9:30-18:0', 'Tuesday': '9:30-18:0'...</td>\n    </tr>\n  </tbody>\n</table>\n<p>13744 rows × 10 columns</p>\n</div>"
     },
     "execution_count": 18,
     "metadata": {},
     "output_type": "execute_result"
    }
   ],
   "source": [
    "df[df['attributes'].isnull()]"
   ],
   "metadata": {
    "collapsed": false,
    "pycharm": {
     "name": "#%%\n"
    }
   }
  },
  {
   "cell_type": "code",
   "execution_count": 15,
   "outputs": [
    {
     "data": {
      "text/plain": "                   business_id                           name  \\\n3       MTSW4McQd7CbVtyjqoe9mw             St Honore Pastries   \n5       CF33F8-E6oudUQ46HnavjQ                 Sonic Drive-In   \n8       k0hlBqXX-Bt0vf1op7Jr1w          Tsevi's Pub And Grill   \n9       bBDDEgkFA1Otx9Lfe7BZUQ                 Sonic Drive-In   \n11      eEOYSgkmpB90uNA7lDOMRA          Vietnamese Food Truck   \n...                        ...                            ...   \n150325  l9eLGG9ZKpLJzboZq-9LRQ                           Wawa   \n150327  cM6V90ExQD6KMSU3rRB5ZA              Dutch Bros Coffee   \n150336  WnT9NIzQgLlILjPT0kEcsQ  Adelita Taqueria & Restaurant   \n150339  2O2K6SXPWv56amqxCECd4w                   The Plum Pit   \n150340  hn9Toz3s-Ei3uZPt7esExA          West Side Kebab House   \n\n                   city state  stars  review_count  is_open  \\\n3          Philadelphia    PA    4.0            80        1   \n5          Ashland City    TN    2.0             6        1   \n8                Affton    MO    3.0            19        0   \n9             Nashville    TN    1.5            10        1   \n11            Tampa Bay    FL    4.0            10        1   \n...                 ...   ...    ...           ...      ...   \n150325  Clifton Heights    PA    3.0            11        1   \n150327            Boise    ID    4.0            33        1   \n150336     Philadelphia    PA    4.5            35        1   \n150339            Aston    DE    4.5            14        1   \n150340         Edmonton    AB    4.5            18        0   \n\n                                               attributes  \\\n3       {'RestaurantsDelivery': 'False', 'OutdoorSeati...   \n5       {'BusinessParking': 'None', 'BusinessAcceptsCr...   \n8       {'Caters': 'True', 'Alcohol': 'u'full_bar'', '...   \n9       {'RestaurantsAttire': ''casual'', 'Restaurants...   \n11      {'Alcohol': ''none'', 'OutdoorSeating': 'None'...   \n...                                                   ...   \n150325  {'BikeParking': 'True', 'BusinessAcceptsCredit...   \n150327  {'WiFi': ''free'', 'RestaurantsGoodForGroups':...   \n150336  {'WheelchairAccessible': 'False', 'Restaurants...   \n150339  {'RestaurantsDelivery': 'False', 'BusinessAcce...   \n150340  {'Ambience': '{'touristy': False, 'hipster': F...   \n\n                                               categories  \\\n3       Restaurants, Food, Bubble Tea, Coffee & Tea, B...   \n5       Burgers, Fast Food, Sandwiches, Food, Ice Crea...   \n8       Pubs, Restaurants, Italian, Bars, American (Tr...   \n9       Ice Cream & Frozen Yogurt, Fast Food, Burgers,...   \n11             Vietnamese, Food, Restaurants, Food Trucks   \n...                                                   ...   \n150325  Restaurants, Sandwiches, Convenience Stores, C...   \n150327  Cafes, Juice Bars & Smoothies, Coffee & Tea, R...   \n150336                               Restaurants, Mexican   \n150339  Restaurants, Comfort Food, Food, Food Trucks, ...   \n150340                        Middle Eastern, Restaurants   \n\n                                                    hours  \n3       {'Monday': '7:0-20:0', 'Tuesday': '7:0-20:0', ...  \n5       {'Monday': '0:0-0:0', 'Tuesday': '6:0-22:0', '...  \n8                                                    None  \n9       {'Monday': '0:0-0:0', 'Tuesday': '6:0-21:0', '...  \n11      {'Monday': '11:0-14:0', 'Tuesday': '11:0-14:0'...  \n...                                                   ...  \n150325  {'Monday': '0:0-0:0', 'Tuesday': '0:0-0:0', 'W...  \n150327  {'Monday': '0:0-0:0', 'Tuesday': '0:0-17:0', '...  \n150336  {'Monday': '11:0-22:0', 'Tuesday': '11:0-22:0'...  \n150339  {'Monday': '0:0-0:0', 'Tuesday': '0:0-0:0', 'W...  \n150340  {'Monday': '11:0-22:0', 'Tuesday': '11:0-22:0'...  \n\n[52286 rows x 10 columns]",
      "text/html": "<div>\n<style scoped>\n    .dataframe tbody tr th:only-of-type {\n        vertical-align: middle;\n    }\n\n    .dataframe tbody tr th {\n        vertical-align: top;\n    }\n\n    .dataframe thead th {\n        text-align: right;\n    }\n</style>\n<table border=\"1\" class=\"dataframe\">\n  <thead>\n    <tr style=\"text-align: right;\">\n      <th></th>\n      <th>business_id</th>\n      <th>name</th>\n      <th>city</th>\n      <th>state</th>\n      <th>stars</th>\n      <th>review_count</th>\n      <th>is_open</th>\n      <th>attributes</th>\n      <th>categories</th>\n      <th>hours</th>\n    </tr>\n  </thead>\n  <tbody>\n    <tr>\n      <th>3</th>\n      <td>MTSW4McQd7CbVtyjqoe9mw</td>\n      <td>St Honore Pastries</td>\n      <td>Philadelphia</td>\n      <td>PA</td>\n      <td>4.0</td>\n      <td>80</td>\n      <td>1</td>\n      <td>{'RestaurantsDelivery': 'False', 'OutdoorSeati...</td>\n      <td>Restaurants, Food, Bubble Tea, Coffee &amp; Tea, B...</td>\n      <td>{'Monday': '7:0-20:0', 'Tuesday': '7:0-20:0', ...</td>\n    </tr>\n    <tr>\n      <th>5</th>\n      <td>CF33F8-E6oudUQ46HnavjQ</td>\n      <td>Sonic Drive-In</td>\n      <td>Ashland City</td>\n      <td>TN</td>\n      <td>2.0</td>\n      <td>6</td>\n      <td>1</td>\n      <td>{'BusinessParking': 'None', 'BusinessAcceptsCr...</td>\n      <td>Burgers, Fast Food, Sandwiches, Food, Ice Crea...</td>\n      <td>{'Monday': '0:0-0:0', 'Tuesday': '6:0-22:0', '...</td>\n    </tr>\n    <tr>\n      <th>8</th>\n      <td>k0hlBqXX-Bt0vf1op7Jr1w</td>\n      <td>Tsevi's Pub And Grill</td>\n      <td>Affton</td>\n      <td>MO</td>\n      <td>3.0</td>\n      <td>19</td>\n      <td>0</td>\n      <td>{'Caters': 'True', 'Alcohol': 'u'full_bar'', '...</td>\n      <td>Pubs, Restaurants, Italian, Bars, American (Tr...</td>\n      <td>None</td>\n    </tr>\n    <tr>\n      <th>9</th>\n      <td>bBDDEgkFA1Otx9Lfe7BZUQ</td>\n      <td>Sonic Drive-In</td>\n      <td>Nashville</td>\n      <td>TN</td>\n      <td>1.5</td>\n      <td>10</td>\n      <td>1</td>\n      <td>{'RestaurantsAttire': ''casual'', 'Restaurants...</td>\n      <td>Ice Cream &amp; Frozen Yogurt, Fast Food, Burgers,...</td>\n      <td>{'Monday': '0:0-0:0', 'Tuesday': '6:0-21:0', '...</td>\n    </tr>\n    <tr>\n      <th>11</th>\n      <td>eEOYSgkmpB90uNA7lDOMRA</td>\n      <td>Vietnamese Food Truck</td>\n      <td>Tampa Bay</td>\n      <td>FL</td>\n      <td>4.0</td>\n      <td>10</td>\n      <td>1</td>\n      <td>{'Alcohol': ''none'', 'OutdoorSeating': 'None'...</td>\n      <td>Vietnamese, Food, Restaurants, Food Trucks</td>\n      <td>{'Monday': '11:0-14:0', 'Tuesday': '11:0-14:0'...</td>\n    </tr>\n    <tr>\n      <th>...</th>\n      <td>...</td>\n      <td>...</td>\n      <td>...</td>\n      <td>...</td>\n      <td>...</td>\n      <td>...</td>\n      <td>...</td>\n      <td>...</td>\n      <td>...</td>\n      <td>...</td>\n    </tr>\n    <tr>\n      <th>150325</th>\n      <td>l9eLGG9ZKpLJzboZq-9LRQ</td>\n      <td>Wawa</td>\n      <td>Clifton Heights</td>\n      <td>PA</td>\n      <td>3.0</td>\n      <td>11</td>\n      <td>1</td>\n      <td>{'BikeParking': 'True', 'BusinessAcceptsCredit...</td>\n      <td>Restaurants, Sandwiches, Convenience Stores, C...</td>\n      <td>{'Monday': '0:0-0:0', 'Tuesday': '0:0-0:0', 'W...</td>\n    </tr>\n    <tr>\n      <th>150327</th>\n      <td>cM6V90ExQD6KMSU3rRB5ZA</td>\n      <td>Dutch Bros Coffee</td>\n      <td>Boise</td>\n      <td>ID</td>\n      <td>4.0</td>\n      <td>33</td>\n      <td>1</td>\n      <td>{'WiFi': ''free'', 'RestaurantsGoodForGroups':...</td>\n      <td>Cafes, Juice Bars &amp; Smoothies, Coffee &amp; Tea, R...</td>\n      <td>{'Monday': '0:0-0:0', 'Tuesday': '0:0-17:0', '...</td>\n    </tr>\n    <tr>\n      <th>150336</th>\n      <td>WnT9NIzQgLlILjPT0kEcsQ</td>\n      <td>Adelita Taqueria &amp; Restaurant</td>\n      <td>Philadelphia</td>\n      <td>PA</td>\n      <td>4.5</td>\n      <td>35</td>\n      <td>1</td>\n      <td>{'WheelchairAccessible': 'False', 'Restaurants...</td>\n      <td>Restaurants, Mexican</td>\n      <td>{'Monday': '11:0-22:0', 'Tuesday': '11:0-22:0'...</td>\n    </tr>\n    <tr>\n      <th>150339</th>\n      <td>2O2K6SXPWv56amqxCECd4w</td>\n      <td>The Plum Pit</td>\n      <td>Aston</td>\n      <td>DE</td>\n      <td>4.5</td>\n      <td>14</td>\n      <td>1</td>\n      <td>{'RestaurantsDelivery': 'False', 'BusinessAcce...</td>\n      <td>Restaurants, Comfort Food, Food, Food Trucks, ...</td>\n      <td>{'Monday': '0:0-0:0', 'Tuesday': '0:0-0:0', 'W...</td>\n    </tr>\n    <tr>\n      <th>150340</th>\n      <td>hn9Toz3s-Ei3uZPt7esExA</td>\n      <td>West Side Kebab House</td>\n      <td>Edmonton</td>\n      <td>AB</td>\n      <td>4.5</td>\n      <td>18</td>\n      <td>0</td>\n      <td>{'Ambience': '{'touristy': False, 'hipster': F...</td>\n      <td>Middle Eastern, Restaurants</td>\n      <td>{'Monday': '11:0-22:0', 'Tuesday': '11:0-22:0'...</td>\n    </tr>\n  </tbody>\n</table>\n<p>52286 rows × 10 columns</p>\n</div>"
     },
     "execution_count": 15,
     "metadata": {},
     "output_type": "execute_result"
    }
   ],
   "source": [
    "df[df['categories'].fillna('no').str.contains('Restaurant')]"
   ],
   "metadata": {
    "collapsed": false,
    "pycharm": {
     "name": "#%%\n"
    }
   }
  },
  {
   "cell_type": "code",
   "execution_count": 24,
   "outputs": [
    {
     "data": {
      "text/plain": "array(['CA', 'MO', 'AZ', 'PA', 'TN', 'FL', 'IN', 'LA', 'AB', 'NV', 'ID',\n       'DE', 'IL', 'NJ', 'NC', 'CO', 'WA', 'HI', 'UT', 'TX', 'MT', 'MI',\n       'SD', 'XMS', 'MA', 'VI', 'VT'], dtype=object)"
     },
     "execution_count": 24,
     "metadata": {},
     "output_type": "execute_result"
    }
   ],
   "source": [
    "df['state'].unique()"
   ],
   "metadata": {
    "collapsed": false,
    "pycharm": {
     "name": "#%%\n"
    }
   }
  },
  {
   "cell_type": "code",
   "execution_count": 26,
   "outputs": [
    {
     "data": {
      "text/plain": "                   business_id                                     name  \\\n1917    SMYXOLPyM95JvZ-oqnsWUA             A A Berlin Glass & Mirror Co   \n2243    9ryVeDaaR-le3kiSayTGow  Pauline African Hair Braiding & Weaving   \n3304    xT3J-SP5g49g2FjQfLEQfg                           Luxury Perfume   \n3324    _obl2-rphXvtzP3y_ekV1Q                 Certegy Payment Services   \n4640    mKxCNYEoKt6d_1rXmvRwww                               Green Envy   \n...                        ...                                      ...   \n144328  szluot9mpdIAnUDGi27__w                    Anchor Pools and Spas   \n145039  s54FBcv78I6QNjqznP9oKw      Superior Fence and Rail of Pinellas   \n146058  KYI2rHE3vTG_z9ddqhp58A       Tima Fashion African Hair Braiding   \n148225  DCvA43gLeetay_qttR9ABQ                   Cham-Pagne Salon & Spa   \n149883  NoU_2sLsdgUxAf9S7vuCQg                              Food Bazaar   \n\n                           address              city state postal_code  \\\n1917         60 W White Horse Pike            Berlin    NJ       08009   \n2243    10204 Saint Charles Rck Rd         Saint Ann    MO       63074   \n3304       5135 Meadowood Mall Cir              Reno    NV       89502   \n3324        11601 Roosevelt Blvd N  Saint Petersburg    FL       33716   \n4640             3520 N Highway 94     Saint Charles    MO       63301   \n...                            ...               ...   ...         ...   \n144328               810 49th St E          Palmetto    FL       34221   \n145039             1400 Starkey Rd             Largo    FL       33771   \n146058            308 Reservoir St           Trenton    NJ       08618   \n148225      315 Clements Bridge Rd        Barrington    NJ       08007   \n149883       1500 Locust St, Ste 5      Philadelphia    PA       19102   \n\n         latitude   longitude  stars  review_count  is_open attributes  \\\n1917    39.800416  -74.937181    3.0             5        1       None   \n2243    38.726032  -90.379323    1.0             5        1       None   \n3304    39.475623 -119.783350    2.0             5        1       None   \n3324    27.877463  -82.653546    1.0             7        1       None   \n4640    38.826533  -90.472224    1.5             5        1       None   \n...           ...         ...    ...           ...      ...        ...   \n144328  27.558259  -82.556160    2.5             5        1       None   \n145039  27.903442  -82.762799    1.5            10        1       None   \n146058  40.230251  -74.769697    1.0             5        1       None   \n148225  39.869476  -75.052961    1.0             5        1       None   \n149883  39.948253  -75.166683    2.0             8        0       None   \n\n       categories hours  \n1917         None  None  \n2243         None  None  \n3304         None  None  \n3324         None  None  \n4640         None  None  \n...           ...   ...  \n144328       None  None  \n145039       None  None  \n146058       None  None  \n148225       None  None  \n149883       None  None  \n\n[103 rows x 14 columns]",
      "text/html": "<div>\n<style scoped>\n    .dataframe tbody tr th:only-of-type {\n        vertical-align: middle;\n    }\n\n    .dataframe tbody tr th {\n        vertical-align: top;\n    }\n\n    .dataframe thead th {\n        text-align: right;\n    }\n</style>\n<table border=\"1\" class=\"dataframe\">\n  <thead>\n    <tr style=\"text-align: right;\">\n      <th></th>\n      <th>business_id</th>\n      <th>name</th>\n      <th>address</th>\n      <th>city</th>\n      <th>state</th>\n      <th>postal_code</th>\n      <th>latitude</th>\n      <th>longitude</th>\n      <th>stars</th>\n      <th>review_count</th>\n      <th>is_open</th>\n      <th>attributes</th>\n      <th>categories</th>\n      <th>hours</th>\n    </tr>\n  </thead>\n  <tbody>\n    <tr>\n      <th>1917</th>\n      <td>SMYXOLPyM95JvZ-oqnsWUA</td>\n      <td>A A Berlin Glass &amp; Mirror Co</td>\n      <td>60 W White Horse Pike</td>\n      <td>Berlin</td>\n      <td>NJ</td>\n      <td>08009</td>\n      <td>39.800416</td>\n      <td>-74.937181</td>\n      <td>3.0</td>\n      <td>5</td>\n      <td>1</td>\n      <td>None</td>\n      <td>None</td>\n      <td>None</td>\n    </tr>\n    <tr>\n      <th>2243</th>\n      <td>9ryVeDaaR-le3kiSayTGow</td>\n      <td>Pauline African Hair Braiding &amp; Weaving</td>\n      <td>10204 Saint Charles Rck Rd</td>\n      <td>Saint Ann</td>\n      <td>MO</td>\n      <td>63074</td>\n      <td>38.726032</td>\n      <td>-90.379323</td>\n      <td>1.0</td>\n      <td>5</td>\n      <td>1</td>\n      <td>None</td>\n      <td>None</td>\n      <td>None</td>\n    </tr>\n    <tr>\n      <th>3304</th>\n      <td>xT3J-SP5g49g2FjQfLEQfg</td>\n      <td>Luxury Perfume</td>\n      <td>5135 Meadowood Mall Cir</td>\n      <td>Reno</td>\n      <td>NV</td>\n      <td>89502</td>\n      <td>39.475623</td>\n      <td>-119.783350</td>\n      <td>2.0</td>\n      <td>5</td>\n      <td>1</td>\n      <td>None</td>\n      <td>None</td>\n      <td>None</td>\n    </tr>\n    <tr>\n      <th>3324</th>\n      <td>_obl2-rphXvtzP3y_ekV1Q</td>\n      <td>Certegy Payment Services</td>\n      <td>11601 Roosevelt Blvd N</td>\n      <td>Saint Petersburg</td>\n      <td>FL</td>\n      <td>33716</td>\n      <td>27.877463</td>\n      <td>-82.653546</td>\n      <td>1.0</td>\n      <td>7</td>\n      <td>1</td>\n      <td>None</td>\n      <td>None</td>\n      <td>None</td>\n    </tr>\n    <tr>\n      <th>4640</th>\n      <td>mKxCNYEoKt6d_1rXmvRwww</td>\n      <td>Green Envy</td>\n      <td>3520 N Highway 94</td>\n      <td>Saint Charles</td>\n      <td>MO</td>\n      <td>63301</td>\n      <td>38.826533</td>\n      <td>-90.472224</td>\n      <td>1.5</td>\n      <td>5</td>\n      <td>1</td>\n      <td>None</td>\n      <td>None</td>\n      <td>None</td>\n    </tr>\n    <tr>\n      <th>...</th>\n      <td>...</td>\n      <td>...</td>\n      <td>...</td>\n      <td>...</td>\n      <td>...</td>\n      <td>...</td>\n      <td>...</td>\n      <td>...</td>\n      <td>...</td>\n      <td>...</td>\n      <td>...</td>\n      <td>...</td>\n      <td>...</td>\n      <td>...</td>\n    </tr>\n    <tr>\n      <th>144328</th>\n      <td>szluot9mpdIAnUDGi27__w</td>\n      <td>Anchor Pools and Spas</td>\n      <td>810 49th St E</td>\n      <td>Palmetto</td>\n      <td>FL</td>\n      <td>34221</td>\n      <td>27.558259</td>\n      <td>-82.556160</td>\n      <td>2.5</td>\n      <td>5</td>\n      <td>1</td>\n      <td>None</td>\n      <td>None</td>\n      <td>None</td>\n    </tr>\n    <tr>\n      <th>145039</th>\n      <td>s54FBcv78I6QNjqznP9oKw</td>\n      <td>Superior Fence and Rail of Pinellas</td>\n      <td>1400 Starkey Rd</td>\n      <td>Largo</td>\n      <td>FL</td>\n      <td>33771</td>\n      <td>27.903442</td>\n      <td>-82.762799</td>\n      <td>1.5</td>\n      <td>10</td>\n      <td>1</td>\n      <td>None</td>\n      <td>None</td>\n      <td>None</td>\n    </tr>\n    <tr>\n      <th>146058</th>\n      <td>KYI2rHE3vTG_z9ddqhp58A</td>\n      <td>Tima Fashion African Hair Braiding</td>\n      <td>308 Reservoir St</td>\n      <td>Trenton</td>\n      <td>NJ</td>\n      <td>08618</td>\n      <td>40.230251</td>\n      <td>-74.769697</td>\n      <td>1.0</td>\n      <td>5</td>\n      <td>1</td>\n      <td>None</td>\n      <td>None</td>\n      <td>None</td>\n    </tr>\n    <tr>\n      <th>148225</th>\n      <td>DCvA43gLeetay_qttR9ABQ</td>\n      <td>Cham-Pagne Salon &amp; Spa</td>\n      <td>315 Clements Bridge Rd</td>\n      <td>Barrington</td>\n      <td>NJ</td>\n      <td>08007</td>\n      <td>39.869476</td>\n      <td>-75.052961</td>\n      <td>1.0</td>\n      <td>5</td>\n      <td>1</td>\n      <td>None</td>\n      <td>None</td>\n      <td>None</td>\n    </tr>\n    <tr>\n      <th>149883</th>\n      <td>NoU_2sLsdgUxAf9S7vuCQg</td>\n      <td>Food Bazaar</td>\n      <td>1500 Locust St, Ste 5</td>\n      <td>Philadelphia</td>\n      <td>PA</td>\n      <td>19102</td>\n      <td>39.948253</td>\n      <td>-75.166683</td>\n      <td>2.0</td>\n      <td>8</td>\n      <td>0</td>\n      <td>None</td>\n      <td>None</td>\n      <td>None</td>\n    </tr>\n  </tbody>\n</table>\n<p>103 rows × 14 columns</p>\n</div>"
     },
     "execution_count": 26,
     "metadata": {},
     "output_type": "execute_result"
    }
   ],
   "source": [
    "df[df['categories'].isnull()]"
   ],
   "metadata": {
    "collapsed": false,
    "pycharm": {
     "name": "#%%\n"
    }
   }
  }
 ],
 "metadata": {
  "kernelspec": {
   "display_name": "Python 3",
   "language": "python",
   "name": "python3"
  },
  "language_info": {
   "codemirror_mode": {
    "name": "ipython",
    "version": 2
   },
   "file_extension": ".py",
   "mimetype": "text/x-python",
   "name": "python",
   "nbconvert_exporter": "python",
   "pygments_lexer": "ipython2",
   "version": "2.7.6"
  }
 },
 "nbformat": 4,
 "nbformat_minor": 0
}