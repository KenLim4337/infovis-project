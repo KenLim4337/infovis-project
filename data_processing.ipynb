{
 "cells": [
  {
   "cell_type": "code",
   "execution_count": 1,
   "metadata": {
    "collapsed": true,
    "pycharm": {
     "name": "#%%\n"
    }
   },
   "outputs": [],
   "source": [
    "import numpy as np\n",
    "import pandas as pd\n",
    "import os\n",
    "import sys\n",
    "import pickle\n",
    "from datetime import date\n",
    "from tqdm import tqdm\n",
    "import seaborn as sns\n",
    "import matplotlib.pyplot as plt\n",
    "import re\n",
    "\n",
    "sys.path.append(os.path.abspath('..'))"
   ]
  },
  {
   "cell_type": "code",
   "execution_count": 4,
   "outputs": [],
   "source": [
    "df = pd.read_json('C:/Users/lkyoo/PycharmProjects/pythonProject1/infovis-project/yelp_data/yelp_academic_dataset_business.json', lines=True)\n",
    "\n",
    "# Only keep restaurants, the most popular category/just over 50k businesses\n",
    "df = df[df['categories'].fillna('no').str.contains('Restaurant')]\n",
    "\n",
    "# Drop address and attributes as it would require too much processing to be useful for visualization\n",
    "df.drop(['address', 'attributes', 'postal_code'], axis=1, inplace=True)\n"
   ],
   "metadata": {
    "collapsed": false,
    "pycharm": {
     "name": "#%%\n"
    }
   }
  },
  {
   "cell_type": "code",
   "execution_count": 3,
   "outputs": [],
   "source": [
    "# Remove states that only have less than 5 examples\n",
    "statecounts = df['state'].value_counts()\n",
    "statecounts = statecounts[statecounts.values < 5]\n",
    "low_states = statecounts.index\n",
    "\n",
    "df = df[~df['state'].isin(low_states)]"
   ],
   "metadata": {
    "collapsed": false,
    "pycharm": {
     "name": "#%%\n"
    }
   }
  },
  {
   "cell_type": "code",
   "execution_count": 4,
   "outputs": [
    {
     "data": {
      "text/plain": "               business_id                   name          city state  \\\n3   MTSW4McQd7CbVtyjqoe9mw     St Honore Pastries  Philadelphia    PA   \n5   CF33F8-E6oudUQ46HnavjQ         Sonic Drive-In  Ashland City    TN   \n8   k0hlBqXX-Bt0vf1op7Jr1w  Tsevi's Pub And Grill        Affton    MO   \n9   bBDDEgkFA1Otx9Lfe7BZUQ         Sonic Drive-In     Nashville    TN   \n11  eEOYSgkmpB90uNA7lDOMRA  Vietnamese Food Truck     Tampa Bay    FL   \n\n     latitude  longitude  stars  review_count  is_open  \\\n3   39.955505 -75.155564    4.0            80        1   \n5   36.269593 -87.058943    2.0             6        1   \n8   38.565165 -90.321087    3.0            19        0   \n9   36.208102 -86.768170    1.5            10        1   \n11  27.955269 -82.456320    4.0            10        1   \n\n                                           categories  \\\n3   Restaurants, Food, Bubble Tea, Coffee & Tea, B...   \n5   Burgers, Fast Food, Sandwiches, Food, Ice Crea...   \n8   Pubs, Restaurants, Italian, Bars, American (Tr...   \n9   Ice Cream & Frozen Yogurt, Fast Food, Burgers,...   \n11         Vietnamese, Food, Restaurants, Food Trucks   \n\n                                                hours  \n3   {'Monday': '7:0-20:0', 'Tuesday': '7:0-20:0', ...  \n5   {'Monday': '0:0-0:0', 'Tuesday': '6:0-22:0', '...  \n8                                                None  \n9   {'Monday': '0:0-0:0', 'Tuesday': '6:0-21:0', '...  \n11  {'Monday': '11:0-14:0', 'Tuesday': '11:0-14:0'...  ",
      "text/html": "<div>\n<style scoped>\n    .dataframe tbody tr th:only-of-type {\n        vertical-align: middle;\n    }\n\n    .dataframe tbody tr th {\n        vertical-align: top;\n    }\n\n    .dataframe thead th {\n        text-align: right;\n    }\n</style>\n<table border=\"1\" class=\"dataframe\">\n  <thead>\n    <tr style=\"text-align: right;\">\n      <th></th>\n      <th>business_id</th>\n      <th>name</th>\n      <th>city</th>\n      <th>state</th>\n      <th>latitude</th>\n      <th>longitude</th>\n      <th>stars</th>\n      <th>review_count</th>\n      <th>is_open</th>\n      <th>categories</th>\n      <th>hours</th>\n    </tr>\n  </thead>\n  <tbody>\n    <tr>\n      <th>3</th>\n      <td>MTSW4McQd7CbVtyjqoe9mw</td>\n      <td>St Honore Pastries</td>\n      <td>Philadelphia</td>\n      <td>PA</td>\n      <td>39.955505</td>\n      <td>-75.155564</td>\n      <td>4.0</td>\n      <td>80</td>\n      <td>1</td>\n      <td>Restaurants, Food, Bubble Tea, Coffee &amp; Tea, B...</td>\n      <td>{'Monday': '7:0-20:0', 'Tuesday': '7:0-20:0', ...</td>\n    </tr>\n    <tr>\n      <th>5</th>\n      <td>CF33F8-E6oudUQ46HnavjQ</td>\n      <td>Sonic Drive-In</td>\n      <td>Ashland City</td>\n      <td>TN</td>\n      <td>36.269593</td>\n      <td>-87.058943</td>\n      <td>2.0</td>\n      <td>6</td>\n      <td>1</td>\n      <td>Burgers, Fast Food, Sandwiches, Food, Ice Crea...</td>\n      <td>{'Monday': '0:0-0:0', 'Tuesday': '6:0-22:0', '...</td>\n    </tr>\n    <tr>\n      <th>8</th>\n      <td>k0hlBqXX-Bt0vf1op7Jr1w</td>\n      <td>Tsevi's Pub And Grill</td>\n      <td>Affton</td>\n      <td>MO</td>\n      <td>38.565165</td>\n      <td>-90.321087</td>\n      <td>3.0</td>\n      <td>19</td>\n      <td>0</td>\n      <td>Pubs, Restaurants, Italian, Bars, American (Tr...</td>\n      <td>None</td>\n    </tr>\n    <tr>\n      <th>9</th>\n      <td>bBDDEgkFA1Otx9Lfe7BZUQ</td>\n      <td>Sonic Drive-In</td>\n      <td>Nashville</td>\n      <td>TN</td>\n      <td>36.208102</td>\n      <td>-86.768170</td>\n      <td>1.5</td>\n      <td>10</td>\n      <td>1</td>\n      <td>Ice Cream &amp; Frozen Yogurt, Fast Food, Burgers,...</td>\n      <td>{'Monday': '0:0-0:0', 'Tuesday': '6:0-21:0', '...</td>\n    </tr>\n    <tr>\n      <th>11</th>\n      <td>eEOYSgkmpB90uNA7lDOMRA</td>\n      <td>Vietnamese Food Truck</td>\n      <td>Tampa Bay</td>\n      <td>FL</td>\n      <td>27.955269</td>\n      <td>-82.456320</td>\n      <td>4.0</td>\n      <td>10</td>\n      <td>1</td>\n      <td>Vietnamese, Food, Restaurants, Food Trucks</td>\n      <td>{'Monday': '11:0-14:0', 'Tuesday': '11:0-14:0'...</td>\n    </tr>\n  </tbody>\n</table>\n</div>"
     },
     "execution_count": 4,
     "metadata": {},
     "output_type": "execute_result"
    }
   ],
   "source": [
    "df.head(5)"
   ],
   "metadata": {
    "collapsed": false,
    "pycharm": {
     "name": "#%%\n"
    }
   }
  },
  {
   "cell_type": "code",
   "execution_count": 5,
   "outputs": [
    {
     "data": {
      "text/plain": "(52281, 11)"
     },
     "execution_count": 5,
     "metadata": {},
     "output_type": "execute_result"
    }
   ],
   "source": [
    "df.shape"
   ],
   "metadata": {
    "collapsed": false,
    "pycharm": {
     "name": "#%%\n"
    }
   }
  },
  {
   "cell_type": "code",
   "execution_count": 6,
   "outputs": [],
   "source": [
    "days = ['Monday','Tuesday','Wednesday','Thursday','Friday','Saturday','Sunday']\n",
    "\n",
    "def hours_to_columns(row):\n",
    "    if row['hours'] is None:\n",
    "        for day in days:\n",
    "            row[day] = None\n",
    "        return row\n",
    "    else:\n",
    "        for day in days:\n",
    "            if row['hours'].get(day) is None:\n",
    "                row[day] = 0\n",
    "            else:\n",
    "                hours = row['hours'].get(day).split('-')\n",
    "                open_time = float(hours[0].split(':')[0]) + float(float(hours[0].split(':')[1])/60)\n",
    "                close_time = float(hours[1].split(':')[0]) + float(float(hours[1].split(':')[1])/60)\n",
    "                row[day] = abs(close_time - open_time)\n",
    "        return row\n"
   ],
   "metadata": {
    "collapsed": false,
    "pycharm": {
     "name": "#%%\n"
    }
   }
  },
  {
   "cell_type": "code",
   "execution_count": 7,
   "outputs": [
    {
     "data": {
      "text/plain": "                                         name          city state   latitude  \\\nbusiness_id                                                                    \nMTSW4McQd7CbVtyjqoe9mw     St Honore Pastries  Philadelphia    PA  39.955505   \nCF33F8-E6oudUQ46HnavjQ         Sonic Drive-In  Ashland City    TN  36.269593   \nk0hlBqXX-Bt0vf1op7Jr1w  Tsevi's Pub And Grill        Affton    MO  38.565165   \nbBDDEgkFA1Otx9Lfe7BZUQ         Sonic Drive-In     Nashville    TN  36.208102   \neEOYSgkmpB90uNA7lDOMRA  Vietnamese Food Truck     Tampa Bay    FL  27.955269   \n\n                        longitude  stars  review_count  is_open  \\\nbusiness_id                                                       \nMTSW4McQd7CbVtyjqoe9mw -75.155564    4.0            80        1   \nCF33F8-E6oudUQ46HnavjQ -87.058943    2.0             6        1   \nk0hlBqXX-Bt0vf1op7Jr1w -90.321087    3.0            19        0   \nbBDDEgkFA1Otx9Lfe7BZUQ -86.768170    1.5            10        1   \neEOYSgkmpB90uNA7lDOMRA -82.456320    4.0            10        1   \n\n                                                               categories  \\\nbusiness_id                                                                 \nMTSW4McQd7CbVtyjqoe9mw  Restaurants, Food, Bubble Tea, Coffee & Tea, B...   \nCF33F8-E6oudUQ46HnavjQ  Burgers, Fast Food, Sandwiches, Food, Ice Crea...   \nk0hlBqXX-Bt0vf1op7Jr1w  Pubs, Restaurants, Italian, Bars, American (Tr...   \nbBDDEgkFA1Otx9Lfe7BZUQ  Ice Cream & Frozen Yogurt, Fast Food, Burgers,...   \neEOYSgkmpB90uNA7lDOMRA         Vietnamese, Food, Restaurants, Food Trucks   \n\n                                                                    hours  \\\nbusiness_id                                                                 \nMTSW4McQd7CbVtyjqoe9mw  {'Monday': '7:0-20:0', 'Tuesday': '7:0-20:0', ...   \nCF33F8-E6oudUQ46HnavjQ  {'Monday': '0:0-0:0', 'Tuesday': '6:0-22:0', '...   \nk0hlBqXX-Bt0vf1op7Jr1w                                               None   \nbBDDEgkFA1Otx9Lfe7BZUQ  {'Monday': '0:0-0:0', 'Tuesday': '6:0-21:0', '...   \neEOYSgkmpB90uNA7lDOMRA  {'Monday': '11:0-14:0', 'Tuesday': '11:0-14:0'...   \n\n                        Monday  Tuesday  Wednesday  Thursday  Friday  \\\nbusiness_id                                                            \nMTSW4McQd7CbVtyjqoe9mw    13.0     13.0       13.0      13.0    14.0   \nCF33F8-E6oudUQ46HnavjQ     0.0     16.0       16.0      16.0     9.0   \nk0hlBqXX-Bt0vf1op7Jr1w     NaN      NaN        NaN       NaN     NaN   \nbBDDEgkFA1Otx9Lfe7BZUQ     0.0     15.0       15.0      10.0    10.0   \neEOYSgkmpB90uNA7lDOMRA     3.0      3.0        3.0       3.0     3.0   \n\n                        Saturday  Sunday  \nbusiness_id                               \nMTSW4McQd7CbVtyjqoe9mw      14.0    14.0  \nCF33F8-E6oudUQ46HnavjQ      13.0    14.0  \nk0hlBqXX-Bt0vf1op7Jr1w       NaN     NaN  \nbBDDEgkFA1Otx9Lfe7BZUQ      11.0    15.0  \neEOYSgkmpB90uNA7lDOMRA       5.0     3.0  ",
      "text/html": "<div>\n<style scoped>\n    .dataframe tbody tr th:only-of-type {\n        vertical-align: middle;\n    }\n\n    .dataframe tbody tr th {\n        vertical-align: top;\n    }\n\n    .dataframe thead th {\n        text-align: right;\n    }\n</style>\n<table border=\"1\" class=\"dataframe\">\n  <thead>\n    <tr style=\"text-align: right;\">\n      <th></th>\n      <th>name</th>\n      <th>city</th>\n      <th>state</th>\n      <th>latitude</th>\n      <th>longitude</th>\n      <th>stars</th>\n      <th>review_count</th>\n      <th>is_open</th>\n      <th>categories</th>\n      <th>hours</th>\n      <th>Monday</th>\n      <th>Tuesday</th>\n      <th>Wednesday</th>\n      <th>Thursday</th>\n      <th>Friday</th>\n      <th>Saturday</th>\n      <th>Sunday</th>\n    </tr>\n    <tr>\n      <th>business_id</th>\n      <th></th>\n      <th></th>\n      <th></th>\n      <th></th>\n      <th></th>\n      <th></th>\n      <th></th>\n      <th></th>\n      <th></th>\n      <th></th>\n      <th></th>\n      <th></th>\n      <th></th>\n      <th></th>\n      <th></th>\n      <th></th>\n      <th></th>\n    </tr>\n  </thead>\n  <tbody>\n    <tr>\n      <th>MTSW4McQd7CbVtyjqoe9mw</th>\n      <td>St Honore Pastries</td>\n      <td>Philadelphia</td>\n      <td>PA</td>\n      <td>39.955505</td>\n      <td>-75.155564</td>\n      <td>4.0</td>\n      <td>80</td>\n      <td>1</td>\n      <td>Restaurants, Food, Bubble Tea, Coffee &amp; Tea, B...</td>\n      <td>{'Monday': '7:0-20:0', 'Tuesday': '7:0-20:0', ...</td>\n      <td>13.0</td>\n      <td>13.0</td>\n      <td>13.0</td>\n      <td>13.0</td>\n      <td>14.0</td>\n      <td>14.0</td>\n      <td>14.0</td>\n    </tr>\n    <tr>\n      <th>CF33F8-E6oudUQ46HnavjQ</th>\n      <td>Sonic Drive-In</td>\n      <td>Ashland City</td>\n      <td>TN</td>\n      <td>36.269593</td>\n      <td>-87.058943</td>\n      <td>2.0</td>\n      <td>6</td>\n      <td>1</td>\n      <td>Burgers, Fast Food, Sandwiches, Food, Ice Crea...</td>\n      <td>{'Monday': '0:0-0:0', 'Tuesday': '6:0-22:0', '...</td>\n      <td>0.0</td>\n      <td>16.0</td>\n      <td>16.0</td>\n      <td>16.0</td>\n      <td>9.0</td>\n      <td>13.0</td>\n      <td>14.0</td>\n    </tr>\n    <tr>\n      <th>k0hlBqXX-Bt0vf1op7Jr1w</th>\n      <td>Tsevi's Pub And Grill</td>\n      <td>Affton</td>\n      <td>MO</td>\n      <td>38.565165</td>\n      <td>-90.321087</td>\n      <td>3.0</td>\n      <td>19</td>\n      <td>0</td>\n      <td>Pubs, Restaurants, Italian, Bars, American (Tr...</td>\n      <td>None</td>\n      <td>NaN</td>\n      <td>NaN</td>\n      <td>NaN</td>\n      <td>NaN</td>\n      <td>NaN</td>\n      <td>NaN</td>\n      <td>NaN</td>\n    </tr>\n    <tr>\n      <th>bBDDEgkFA1Otx9Lfe7BZUQ</th>\n      <td>Sonic Drive-In</td>\n      <td>Nashville</td>\n      <td>TN</td>\n      <td>36.208102</td>\n      <td>-86.768170</td>\n      <td>1.5</td>\n      <td>10</td>\n      <td>1</td>\n      <td>Ice Cream &amp; Frozen Yogurt, Fast Food, Burgers,...</td>\n      <td>{'Monday': '0:0-0:0', 'Tuesday': '6:0-21:0', '...</td>\n      <td>0.0</td>\n      <td>15.0</td>\n      <td>15.0</td>\n      <td>10.0</td>\n      <td>10.0</td>\n      <td>11.0</td>\n      <td>15.0</td>\n    </tr>\n    <tr>\n      <th>eEOYSgkmpB90uNA7lDOMRA</th>\n      <td>Vietnamese Food Truck</td>\n      <td>Tampa Bay</td>\n      <td>FL</td>\n      <td>27.955269</td>\n      <td>-82.456320</td>\n      <td>4.0</td>\n      <td>10</td>\n      <td>1</td>\n      <td>Vietnamese, Food, Restaurants, Food Trucks</td>\n      <td>{'Monday': '11:0-14:0', 'Tuesday': '11:0-14:0'...</td>\n      <td>3.0</td>\n      <td>3.0</td>\n      <td>3.0</td>\n      <td>3.0</td>\n      <td>3.0</td>\n      <td>5.0</td>\n      <td>3.0</td>\n    </tr>\n  </tbody>\n</table>\n</div>"
     },
     "execution_count": 7,
     "metadata": {},
     "output_type": "execute_result"
    }
   ],
   "source": [
    "# Process Business Data\n",
    "df_processed = df.copy()\n",
    "\n",
    "# Index of business IDs\n",
    "business_ids = df_processed['business_id'].unique()\n",
    "\n",
    "# Split hours into 7 columns denoting number of hours open a day\n",
    "df_processed = df_processed.apply(hours_to_columns, axis=1)\n",
    "df_processed.set_index('business_id', inplace=True)\n",
    "\n",
    "df_processed.head(5)"
   ],
   "metadata": {
    "collapsed": false,
    "pycharm": {
     "name": "#%%\n"
    }
   }
  },
  {
   "cell_type": "code",
   "execution_count": 67,
   "outputs": [
    {
     "name": "stderr",
     "output_type": "stream",
     "text": [
      "Counting categories: 100%|██████████| 730/730 [00:03<00:00, 194.87it/s]\n"
     ]
    }
   ],
   "source": [
    "# Split Business Categories and remove outlier categories (in terms of appearance from the dataset\n",
    "categories = df_processed['categories'].astype(str).values\n",
    "\n",
    "categories = ', '.join(categories)\n",
    "\n",
    "categories = re.sub(r\"(\\s*?),\", \", \", categories)\n",
    "\n",
    "categories = re.split(', ', categories)\n",
    "\n",
    "categories = [x.strip() for x in categories]\n",
    "\n",
    "categories_unique = [*set(categories)]\n",
    "\n",
    "categories_count = {}\n",
    "\n",
    "for category in tqdm(categories_unique, desc='Counting categories'):\n",
    "    categories_count[category] = categories.count(category)"
   ],
   "metadata": {
    "collapsed": false,
    "pycharm": {
     "name": "#%%\n"
    }
   }
  },
  {
   "cell_type": "code",
   "execution_count": 68,
   "outputs": [
    {
     "data": {
      "text/plain": "                        count\nRestaurants             52263\nFood                    15474\nNightlife                8723\nSandwiches               8366\nBars                     8337\nAmerican (Traditional)   8137\nPizza                    7092\nFast Food                6472\nBreakfast & Brunch       6237\nAmerican (New)           6096",
      "text/html": "<div>\n<style scoped>\n    .dataframe tbody tr th:only-of-type {\n        vertical-align: middle;\n    }\n\n    .dataframe tbody tr th {\n        vertical-align: top;\n    }\n\n    .dataframe thead th {\n        text-align: right;\n    }\n</style>\n<table border=\"1\" class=\"dataframe\">\n  <thead>\n    <tr style=\"text-align: right;\">\n      <th></th>\n      <th>count</th>\n    </tr>\n  </thead>\n  <tbody>\n    <tr>\n      <th>Restaurants</th>\n      <td>52263</td>\n    </tr>\n    <tr>\n      <th>Food</th>\n      <td>15474</td>\n    </tr>\n    <tr>\n      <th>Nightlife</th>\n      <td>8723</td>\n    </tr>\n    <tr>\n      <th>Sandwiches</th>\n      <td>8366</td>\n    </tr>\n    <tr>\n      <th>Bars</th>\n      <td>8337</td>\n    </tr>\n    <tr>\n      <th>American (Traditional)</th>\n      <td>8137</td>\n    </tr>\n    <tr>\n      <th>Pizza</th>\n      <td>7092</td>\n    </tr>\n    <tr>\n      <th>Fast Food</th>\n      <td>6472</td>\n    </tr>\n    <tr>\n      <th>Breakfast &amp; Brunch</th>\n      <td>6237</td>\n    </tr>\n    <tr>\n      <th>American (New)</th>\n      <td>6096</td>\n    </tr>\n  </tbody>\n</table>\n</div>"
     },
     "execution_count": 68,
     "metadata": {},
     "output_type": "execute_result"
    }
   ],
   "source": [
    "# Parse category counts into a DF\n",
    "df_categories = pd.DataFrame.from_dict(categories_count, orient='index', columns=['count'])\n",
    "\n",
    "# Sort categories descending\n",
    "df_categories = df_categories.sort_values(by='count', ascending=False)\n",
    "\n",
    "df_categories.head(10)"
   ],
   "metadata": {
    "collapsed": false,
    "pycharm": {
     "name": "#%%\n"
    }
   }
  },
  {
   "cell_type": "code",
   "execution_count": 37,
   "outputs": [
    {
     "data": {
      "text/plain": "(732, 1)"
     },
     "execution_count": 37,
     "metadata": {},
     "output_type": "execute_result"
    }
   ],
   "source": [
    "df_categories.shape"
   ],
   "metadata": {
    "collapsed": false,
    "pycharm": {
     "name": "#%%\n"
    }
   }
  },
  {
   "cell_type": "code",
   "execution_count": 64,
   "outputs": [
    {
     "data": {
      "text/plain": "Index(['Restaurants', 'Food', 'Nightlife', 'Sandwiches', 'Bars',\n       'American Traditional', 'Pizza', 'Fast Food', 'Breakfast & Brunch',\n       'American New',\n       ...\n       'Lahmacun', 'RV Parks', 'Leather Goods', 'Trailer Repair',\n       'Gemstones & Minerals', 'Serbo Croatian', 'Pick Your Own Farms',\n       'Homeowner Association', 'Pet Boarding', 'Party Characters'],\n      dtype='object', length=730)"
     },
     "execution_count": 64,
     "metadata": {},
     "output_type": "execute_result"
    }
   ],
   "source": [
    "df_categories.index"
   ],
   "metadata": {
    "collapsed": false,
    "pycharm": {
     "name": "#%%\n"
    }
   }
  },
  {
   "cell_type": "code",
   "execution_count": 69,
   "outputs": [],
   "source": [
    "file = open('../infovis-project/processed_data/business_category_counts.pkl', 'wb')\n",
    "pickle.dump(df_categories, file)"
   ],
   "metadata": {
    "collapsed": false,
    "pycharm": {
     "name": "#%%\n"
    }
   }
  },
  {
   "cell_type": "code",
   "execution_count": 70,
   "outputs": [],
   "source": [
    "df_categories.to_csv('../infovis-project/processed_data/business_category_counts.gzip', compression='gzip')"
   ],
   "metadata": {
    "collapsed": false,
    "pycharm": {
     "name": "#%%\n"
    }
   }
  },
  {
   "cell_type": "code",
   "execution_count": 11,
   "outputs": [
    {
     "name": "stderr",
     "output_type": "stream",
     "text": [
      "Processing review data: 700it [46:45,  4.01s/it]\n"
     ]
    }
   ],
   "source": [
    "# Processing Reviews\n",
    "pd_reviews = pd.read_json('../infovis-project/yelp_data/yelp_academic_dataset_review.json', lines=True, chunksize=10000)\n",
    "\n",
    "today = date.today()\n",
    "\n",
    "# Add empty columns to business table\n",
    "df_processed['oldest_review'] = -sys.maxsize\n",
    "df_processed['newest_review'] = sys.maxsize\n",
    "df_processed['total_age'] = 0\n",
    "df_processed['total_liked'] = 0\n",
    "df_processed['star_1'] = 0\n",
    "df_processed['star_2'] = 0\n",
    "df_processed['star_3'] = 0\n",
    "df_processed['star_4'] = 0\n",
    "df_processed['star_5'] = 0\n",
    "df_processed['review_dates'] = ''\n",
    "\n",
    "count = 0\n",
    "for chunk in tqdm(pd_reviews, desc='Processing review data'):\n",
    "    temp = chunk.drop(['review_id', 'user_id', 'text'],axis=1)\n",
    "\n",
    "    #Filter out rows that dont need to be there (non restaurants)\n",
    "    temp = temp[temp['business_id'].isin(business_ids)]\n",
    "\n",
    "    businesses = temp['business_id'].unique()\n",
    "\n",
    "    # Age reviews\n",
    "    temp['date'] = pd.to_datetime(temp['date'])\n",
    "    temp['age'] = round((pd.to_datetime(today) - temp['date']).dt.days/365, 2)\n",
    "\n",
    "    # Determine if a review is socially liked/supported by checking useful, funny, and cool columns\n",
    "    temp['liked'] = temp[['useful', 'funny', 'cool']].any(axis=1) * 1\n",
    "\n",
    "    # Get oldest review, newest review, age sum, number of liked, number for each star value for each business\n",
    "    for business in businesses:\n",
    "        temp_business = temp[temp['business_id'] == business]\n",
    "        age_max = temp_business['age'].max()\n",
    "        age_min = temp_business['age'].min()\n",
    "        total_age = temp_business['age'].sum()\n",
    "        total_liked = temp_business['liked'].sum()\n",
    "        stars = temp_business['stars'].value_counts()\n",
    "        dates = list(temp_business['date'].values)\n",
    "\n",
    "        #Compare and update min/max\n",
    "        if age_max > float(df_processed.at[business, 'oldest_review']):\n",
    "            df_processed.at[business, 'oldest_review'] = age_max\n",
    "\n",
    "        if age_min < float(df_processed.at[business, 'newest_review']):\n",
    "            df_processed.at[business, 'newest_review'] = age_min\n",
    "\n",
    "        #Add to total age and liked\n",
    "        df_processed.at[business, 'total_age'] = float(df_processed.at[business, 'total_age']) + total_age\n",
    "        df_processed.at[business, 'total_liked'] = float(df_processed.at[business, 'total_liked']) + total_liked\n",
    "        df_processed.at[business, 'review_dates'] = list(df_processed.at[business, 'review_dates']) + dates\n",
    "\n",
    "        #Star columns\n",
    "        for key in stars.keys():\n",
    "            df_processed.at[business, 'star_'+str(key)] = float(df_processed.at[business, 'star_'+str(key)]) + stars[key]\n",
    "\n",
    "        count+=1\n",
    "\n",
    "        if count == 3:\n",
    "            break\n"
   ],
   "metadata": {
    "collapsed": false,
    "pycharm": {
     "name": "#%%\n"
    }
   }
  },
  {
   "cell_type": "code",
   "execution_count": 12,
   "outputs": [
    {
     "data": {
      "text/plain": "                                                  name          city state  \\\nbusiness_id                                                                  \nMTSW4McQd7CbVtyjqoe9mw              St Honore Pastries  Philadelphia    PA   \nCF33F8-E6oudUQ46HnavjQ                  Sonic Drive-In  Ashland City    TN   \nk0hlBqXX-Bt0vf1op7Jr1w           Tsevi's Pub And Grill        Affton    MO   \nbBDDEgkFA1Otx9Lfe7BZUQ                  Sonic Drive-In     Nashville    TN   \neEOYSgkmpB90uNA7lDOMRA           Vietnamese Food Truck     Tampa Bay    FL   \nil_Ro8jwPlHresjw9EGmBg                         Denny's  Indianapolis    IN   \n0bPLkL0QhhPO5kt1_EXmNQ            Zio's Italian Market         Largo    FL   \nMUTTqe8uqyMdBl186RmNeA                        Tuna Bar  Philadelphia    PA   \nROeacJQwBeh05Rqg7F6TCg                             BAP  Philadelphia    PA   \nWKMJwqnfZKsAae75RMP6jA  Roast Coffeehouse and Wine Bar      Edmonton    AB   \n\n                         latitude   longitude  stars  review_count  is_open  \\\nbusiness_id                                                                   \nMTSW4McQd7CbVtyjqoe9mw  39.955505  -75.155564    4.0            80        1   \nCF33F8-E6oudUQ46HnavjQ  36.269593  -87.058943    2.0             6        1   \nk0hlBqXX-Bt0vf1op7Jr1w  38.565165  -90.321087    3.0            19        0   \nbBDDEgkFA1Otx9Lfe7BZUQ  36.208102  -86.768170    1.5            10        1   \neEOYSgkmpB90uNA7lDOMRA  27.955269  -82.456320    4.0            10        1   \nil_Ro8jwPlHresjw9EGmBg  39.637133  -86.127217    2.5            28        1   \n0bPLkL0QhhPO5kt1_EXmNQ  27.916116  -82.760461    4.5           100        0   \nMUTTqe8uqyMdBl186RmNeA  39.953949  -75.143226    4.0           245        1   \nROeacJQwBeh05Rqg7F6TCg  39.943223  -75.162568    4.5           205        1   \nWKMJwqnfZKsAae75RMP6jA  53.546045 -113.499169    4.0            40        0   \n\n                                                               categories  \\\nbusiness_id                                                                 \nMTSW4McQd7CbVtyjqoe9mw  Restaurants, Food, Bubble Tea, Coffee & Tea, B...   \nCF33F8-E6oudUQ46HnavjQ  Burgers, Fast Food, Sandwiches, Food, Ice Crea...   \nk0hlBqXX-Bt0vf1op7Jr1w  Pubs, Restaurants, Italian, Bars, American (Tr...   \nbBDDEgkFA1Otx9Lfe7BZUQ  Ice Cream & Frozen Yogurt, Fast Food, Burgers,...   \neEOYSgkmpB90uNA7lDOMRA         Vietnamese, Food, Restaurants, Food Trucks   \nil_Ro8jwPlHresjw9EGmBg  American (Traditional), Restaurants, Diners, B...   \n0bPLkL0QhhPO5kt1_EXmNQ        Food, Delis, Italian, Bakeries, Restaurants   \nMUTTqe8uqyMdBl186RmNeA                  Sushi Bars, Restaurants, Japanese   \nROeacJQwBeh05Rqg7F6TCg                                Korean, Restaurants   \nWKMJwqnfZKsAae75RMP6jA  Coffee & Tea, Food, Cafes, Bars, Wine Bars, Re...   \n\n                                                                    hours  \\\nbusiness_id                                                                 \nMTSW4McQd7CbVtyjqoe9mw  {'Monday': '7:0-20:0', 'Tuesday': '7:0-20:0', ...   \nCF33F8-E6oudUQ46HnavjQ  {'Monday': '0:0-0:0', 'Tuesday': '6:0-22:0', '...   \nk0hlBqXX-Bt0vf1op7Jr1w                                               None   \nbBDDEgkFA1Otx9Lfe7BZUQ  {'Monday': '0:0-0:0', 'Tuesday': '6:0-21:0', '...   \neEOYSgkmpB90uNA7lDOMRA  {'Monday': '11:0-14:0', 'Tuesday': '11:0-14:0'...   \nil_Ro8jwPlHresjw9EGmBg  {'Monday': '6:0-22:0', 'Tuesday': '6:0-22:0', ...   \n0bPLkL0QhhPO5kt1_EXmNQ  {'Monday': '10:0-18:0', 'Tuesday': '10:0-20:0'...   \nMUTTqe8uqyMdBl186RmNeA  {'Tuesday': '13:30-22:0', 'Wednesday': '13:30-...   \nROeacJQwBeh05Rqg7F6TCg  {'Monday': '11:30-20:30', 'Tuesday': '11:30-20...   \nWKMJwqnfZKsAae75RMP6jA  {'Monday': '8:0-18:0', 'Tuesday': '8:0-18:0', ...   \n\n                        ...  total_liked  star_1  star_2  star_3  star_4  \\\nbusiness_id             ...                                                \nMTSW4McQd7CbVtyjqoe9mw  ...           53       5       4       9      31   \nCF33F8-E6oudUQ46HnavjQ  ...            0       3       1       0       2   \nk0hlBqXX-Bt0vf1op7Jr1w  ...            9       6       2       1       7   \nbBDDEgkFA1Otx9Lfe7BZUQ  ...            2       7       1       1       0   \neEOYSgkmpB90uNA7lDOMRA  ...            8       1       0       2       2   \nil_Ro8jwPlHresjw9EGmBg  ...            8      15       2       1       7   \n0bPLkL0QhhPO5kt1_EXmNQ  ...           61       7       4       1      18   \nMUTTqe8uqyMdBl186RmNeA  ...          131      13      12      29      50   \nROeacJQwBeh05Rqg7F6TCg  ...           97       4       6      28      49   \nWKMJwqnfZKsAae75RMP6jA  ...           29       2       2       4      22   \n\n                        star_5  \\\nbusiness_id                      \nMTSW4McQd7CbVtyjqoe9mw      37   \nCF33F8-E6oudUQ46HnavjQ       0   \nk0hlBqXX-Bt0vf1op7Jr1w       3   \nbBDDEgkFA1Otx9Lfe7BZUQ       1   \neEOYSgkmpB90uNA7lDOMRA       6   \nil_Ro8jwPlHresjw9EGmBg       4   \n0bPLkL0QhhPO5kt1_EXmNQ      74   \nMUTTqe8uqyMdBl186RmNeA     142   \nROeacJQwBeh05Rqg7F6TCg     117   \nWKMJwqnfZKsAae75RMP6jA       8   \n\n                                                             review_dates  \\\nbusiness_id                                                                 \nMTSW4McQd7CbVtyjqoe9mw  [2013-10-05T15:19:06.000000000, 2013-10-25T01:...   \nCF33F8-E6oudUQ46HnavjQ  [2012-12-18T08:45:44.000000000, 2013-07-08T00:...   \nk0hlBqXX-Bt0vf1op7Jr1w  [2014-02-25T22:34:59.000000000, 2013-01-29T04:...   \nbBDDEgkFA1Otx9Lfe7BZUQ  [2016-11-11T04:01:28.000000000, 2011-07-01T23:...   \neEOYSgkmpB90uNA7lDOMRA  [2019-04-04T16:03:00.000000000, 2018-10-23T00:...   \nil_Ro8jwPlHresjw9EGmBg  [2016-05-08T08:49:25.000000000, 2017-08-30T10:...   \n0bPLkL0QhhPO5kt1_EXmNQ  [2018-04-28T00:32:12.000000000, 2015-08-30T18:...   \nMUTTqe8uqyMdBl186RmNeA  [2018-01-22T01:47:25.000000000, 2018-03-24T14:...   \nROeacJQwBeh05Rqg7F6TCg  [2016-10-27T01:10:32.000000000, 2014-03-15T19:...   \nWKMJwqnfZKsAae75RMP6jA  [2013-09-04T19:49:33.000000000, 2013-07-14T21:...   \n\n                        avg_review_age  est_business_age  hours_per_week  \nbusiness_id                                                               \nMTSW4McQd7CbVtyjqoe9mw            7.45             13.66            94.0  \nCF33F8-E6oudUQ46HnavjQ            5.07              8.22            84.0  \nk0hlBqXX-Bt0vf1op7Jr1w            9.47              2.25             NaN  \nbBDDEgkFA1Otx9Lfe7BZUQ            4.60              9.80            76.0  \neEOYSgkmpB90uNA7lDOMRA            3.35              3.45            23.0  \nil_Ro8jwPlHresjw9EGmBg            4.66              7.11           112.0  \n0bPLkL0QhhPO5kt1_EXmNQ            7.19              9.40            58.0  \nMUTTqe8uqyMdBl186RmNeA            3.57              4.14            53.0  \nROeacJQwBeh05Rqg7F6TCg            5.93              8.10            54.0  \nWKMJwqnfZKsAae75RMP6jA            9.15              3.05            67.0  \n\n[10 rows x 30 columns]",
      "text/html": "<div>\n<style scoped>\n    .dataframe tbody tr th:only-of-type {\n        vertical-align: middle;\n    }\n\n    .dataframe tbody tr th {\n        vertical-align: top;\n    }\n\n    .dataframe thead th {\n        text-align: right;\n    }\n</style>\n<table border=\"1\" class=\"dataframe\">\n  <thead>\n    <tr style=\"text-align: right;\">\n      <th></th>\n      <th>name</th>\n      <th>city</th>\n      <th>state</th>\n      <th>latitude</th>\n      <th>longitude</th>\n      <th>stars</th>\n      <th>review_count</th>\n      <th>is_open</th>\n      <th>categories</th>\n      <th>hours</th>\n      <th>...</th>\n      <th>total_liked</th>\n      <th>star_1</th>\n      <th>star_2</th>\n      <th>star_3</th>\n      <th>star_4</th>\n      <th>star_5</th>\n      <th>review_dates</th>\n      <th>avg_review_age</th>\n      <th>est_business_age</th>\n      <th>hours_per_week</th>\n    </tr>\n    <tr>\n      <th>business_id</th>\n      <th></th>\n      <th></th>\n      <th></th>\n      <th></th>\n      <th></th>\n      <th></th>\n      <th></th>\n      <th></th>\n      <th></th>\n      <th></th>\n      <th></th>\n      <th></th>\n      <th></th>\n      <th></th>\n      <th></th>\n      <th></th>\n      <th></th>\n      <th></th>\n      <th></th>\n      <th></th>\n      <th></th>\n    </tr>\n  </thead>\n  <tbody>\n    <tr>\n      <th>MTSW4McQd7CbVtyjqoe9mw</th>\n      <td>St Honore Pastries</td>\n      <td>Philadelphia</td>\n      <td>PA</td>\n      <td>39.955505</td>\n      <td>-75.155564</td>\n      <td>4.0</td>\n      <td>80</td>\n      <td>1</td>\n      <td>Restaurants, Food, Bubble Tea, Coffee &amp; Tea, B...</td>\n      <td>{'Monday': '7:0-20:0', 'Tuesday': '7:0-20:0', ...</td>\n      <td>...</td>\n      <td>53</td>\n      <td>5</td>\n      <td>4</td>\n      <td>9</td>\n      <td>31</td>\n      <td>37</td>\n      <td>[2013-10-05T15:19:06.000000000, 2013-10-25T01:...</td>\n      <td>7.45</td>\n      <td>13.66</td>\n      <td>94.0</td>\n    </tr>\n    <tr>\n      <th>CF33F8-E6oudUQ46HnavjQ</th>\n      <td>Sonic Drive-In</td>\n      <td>Ashland City</td>\n      <td>TN</td>\n      <td>36.269593</td>\n      <td>-87.058943</td>\n      <td>2.0</td>\n      <td>6</td>\n      <td>1</td>\n      <td>Burgers, Fast Food, Sandwiches, Food, Ice Crea...</td>\n      <td>{'Monday': '0:0-0:0', 'Tuesday': '6:0-22:0', '...</td>\n      <td>...</td>\n      <td>0</td>\n      <td>3</td>\n      <td>1</td>\n      <td>0</td>\n      <td>2</td>\n      <td>0</td>\n      <td>[2012-12-18T08:45:44.000000000, 2013-07-08T00:...</td>\n      <td>5.07</td>\n      <td>8.22</td>\n      <td>84.0</td>\n    </tr>\n    <tr>\n      <th>k0hlBqXX-Bt0vf1op7Jr1w</th>\n      <td>Tsevi's Pub And Grill</td>\n      <td>Affton</td>\n      <td>MO</td>\n      <td>38.565165</td>\n      <td>-90.321087</td>\n      <td>3.0</td>\n      <td>19</td>\n      <td>0</td>\n      <td>Pubs, Restaurants, Italian, Bars, American (Tr...</td>\n      <td>None</td>\n      <td>...</td>\n      <td>9</td>\n      <td>6</td>\n      <td>2</td>\n      <td>1</td>\n      <td>7</td>\n      <td>3</td>\n      <td>[2014-02-25T22:34:59.000000000, 2013-01-29T04:...</td>\n      <td>9.47</td>\n      <td>2.25</td>\n      <td>NaN</td>\n    </tr>\n    <tr>\n      <th>bBDDEgkFA1Otx9Lfe7BZUQ</th>\n      <td>Sonic Drive-In</td>\n      <td>Nashville</td>\n      <td>TN</td>\n      <td>36.208102</td>\n      <td>-86.768170</td>\n      <td>1.5</td>\n      <td>10</td>\n      <td>1</td>\n      <td>Ice Cream &amp; Frozen Yogurt, Fast Food, Burgers,...</td>\n      <td>{'Monday': '0:0-0:0', 'Tuesday': '6:0-21:0', '...</td>\n      <td>...</td>\n      <td>2</td>\n      <td>7</td>\n      <td>1</td>\n      <td>1</td>\n      <td>0</td>\n      <td>1</td>\n      <td>[2016-11-11T04:01:28.000000000, 2011-07-01T23:...</td>\n      <td>4.60</td>\n      <td>9.80</td>\n      <td>76.0</td>\n    </tr>\n    <tr>\n      <th>eEOYSgkmpB90uNA7lDOMRA</th>\n      <td>Vietnamese Food Truck</td>\n      <td>Tampa Bay</td>\n      <td>FL</td>\n      <td>27.955269</td>\n      <td>-82.456320</td>\n      <td>4.0</td>\n      <td>10</td>\n      <td>1</td>\n      <td>Vietnamese, Food, Restaurants, Food Trucks</td>\n      <td>{'Monday': '11:0-14:0', 'Tuesday': '11:0-14:0'...</td>\n      <td>...</td>\n      <td>8</td>\n      <td>1</td>\n      <td>0</td>\n      <td>2</td>\n      <td>2</td>\n      <td>6</td>\n      <td>[2019-04-04T16:03:00.000000000, 2018-10-23T00:...</td>\n      <td>3.35</td>\n      <td>3.45</td>\n      <td>23.0</td>\n    </tr>\n    <tr>\n      <th>il_Ro8jwPlHresjw9EGmBg</th>\n      <td>Denny's</td>\n      <td>Indianapolis</td>\n      <td>IN</td>\n      <td>39.637133</td>\n      <td>-86.127217</td>\n      <td>2.5</td>\n      <td>28</td>\n      <td>1</td>\n      <td>American (Traditional), Restaurants, Diners, B...</td>\n      <td>{'Monday': '6:0-22:0', 'Tuesday': '6:0-22:0', ...</td>\n      <td>...</td>\n      <td>8</td>\n      <td>15</td>\n      <td>2</td>\n      <td>1</td>\n      <td>7</td>\n      <td>4</td>\n      <td>[2016-05-08T08:49:25.000000000, 2017-08-30T10:...</td>\n      <td>4.66</td>\n      <td>7.11</td>\n      <td>112.0</td>\n    </tr>\n    <tr>\n      <th>0bPLkL0QhhPO5kt1_EXmNQ</th>\n      <td>Zio's Italian Market</td>\n      <td>Largo</td>\n      <td>FL</td>\n      <td>27.916116</td>\n      <td>-82.760461</td>\n      <td>4.5</td>\n      <td>100</td>\n      <td>0</td>\n      <td>Food, Delis, Italian, Bakeries, Restaurants</td>\n      <td>{'Monday': '10:0-18:0', 'Tuesday': '10:0-20:0'...</td>\n      <td>...</td>\n      <td>61</td>\n      <td>7</td>\n      <td>4</td>\n      <td>1</td>\n      <td>18</td>\n      <td>74</td>\n      <td>[2018-04-28T00:32:12.000000000, 2015-08-30T18:...</td>\n      <td>7.19</td>\n      <td>9.40</td>\n      <td>58.0</td>\n    </tr>\n    <tr>\n      <th>MUTTqe8uqyMdBl186RmNeA</th>\n      <td>Tuna Bar</td>\n      <td>Philadelphia</td>\n      <td>PA</td>\n      <td>39.953949</td>\n      <td>-75.143226</td>\n      <td>4.0</td>\n      <td>245</td>\n      <td>1</td>\n      <td>Sushi Bars, Restaurants, Japanese</td>\n      <td>{'Tuesday': '13:30-22:0', 'Wednesday': '13:30-...</td>\n      <td>...</td>\n      <td>131</td>\n      <td>13</td>\n      <td>12</td>\n      <td>29</td>\n      <td>50</td>\n      <td>142</td>\n      <td>[2018-01-22T01:47:25.000000000, 2018-03-24T14:...</td>\n      <td>3.57</td>\n      <td>4.14</td>\n      <td>53.0</td>\n    </tr>\n    <tr>\n      <th>ROeacJQwBeh05Rqg7F6TCg</th>\n      <td>BAP</td>\n      <td>Philadelphia</td>\n      <td>PA</td>\n      <td>39.943223</td>\n      <td>-75.162568</td>\n      <td>4.5</td>\n      <td>205</td>\n      <td>1</td>\n      <td>Korean, Restaurants</td>\n      <td>{'Monday': '11:30-20:30', 'Tuesday': '11:30-20...</td>\n      <td>...</td>\n      <td>97</td>\n      <td>4</td>\n      <td>6</td>\n      <td>28</td>\n      <td>49</td>\n      <td>117</td>\n      <td>[2016-10-27T01:10:32.000000000, 2014-03-15T19:...</td>\n      <td>5.93</td>\n      <td>8.10</td>\n      <td>54.0</td>\n    </tr>\n    <tr>\n      <th>WKMJwqnfZKsAae75RMP6jA</th>\n      <td>Roast Coffeehouse and Wine Bar</td>\n      <td>Edmonton</td>\n      <td>AB</td>\n      <td>53.546045</td>\n      <td>-113.499169</td>\n      <td>4.0</td>\n      <td>40</td>\n      <td>0</td>\n      <td>Coffee &amp; Tea, Food, Cafes, Bars, Wine Bars, Re...</td>\n      <td>{'Monday': '8:0-18:0', 'Tuesday': '8:0-18:0', ...</td>\n      <td>...</td>\n      <td>29</td>\n      <td>2</td>\n      <td>2</td>\n      <td>4</td>\n      <td>22</td>\n      <td>8</td>\n      <td>[2013-09-04T19:49:33.000000000, 2013-07-14T21:...</td>\n      <td>9.15</td>\n      <td>3.05</td>\n      <td>67.0</td>\n    </tr>\n  </tbody>\n</table>\n<p>10 rows × 30 columns</p>\n</div>"
     },
     "execution_count": 12,
     "metadata": {},
     "output_type": "execute_result"
    }
   ],
   "source": [
    "# Derived columns: average review age, hours per week, estimated business age\n",
    "df_processed['avg_review_age'] = round(df_processed['total_age']/df_processed['review_count'],2)\n",
    "df_processed['est_business_age'] = round(abs(df_processed['oldest_review'] - df_processed['newest_review']),2)\n",
    "df_processed['hours_per_week'] = df_processed['Monday'] + df_processed['Tuesday'] + df_processed['Wednesday'] + df_processed['Thursday'] + df_processed['Friday'] + df_processed['Saturday'] + df_processed['Sunday']\n",
    "\n",
    "df_processed.head(10)"
   ],
   "metadata": {
    "collapsed": false,
    "pycharm": {
     "name": "#%%\n"
    }
   }
  },
  {
   "cell_type": "code",
   "execution_count": 13,
   "outputs": [
    {
     "data": {
      "text/plain": "              business_id                                               date\n0  ---kPU91CF4Lq2-WlRu9Lw  2020-03-13 21:10:56, 2020-06-02 22:18:06, 2020...\n1  --0iUa4sNDFiZFrAdIWhZQ  2010-09-13 21:43:09, 2011-05-04 23:08:15, 2011...\n2  --30_8IhuyMHbSOcNWd6DQ           2013-06-14 23:29:17, 2014-08-13 23:20:22\n3  --7PUidqRWpRSpXebiyxTg  2011-02-15 17:12:00, 2011-07-28 02:46:10, 2012...\n4  --7jw19RH9JKXgFohspgQw  2014-04-21 20:42:11, 2014-04-28 21:04:46, 2014...",
      "text/html": "<div>\n<style scoped>\n    .dataframe tbody tr th:only-of-type {\n        vertical-align: middle;\n    }\n\n    .dataframe tbody tr th {\n        vertical-align: top;\n    }\n\n    .dataframe thead th {\n        text-align: right;\n    }\n</style>\n<table border=\"1\" class=\"dataframe\">\n  <thead>\n    <tr style=\"text-align: right;\">\n      <th></th>\n      <th>business_id</th>\n      <th>date</th>\n    </tr>\n  </thead>\n  <tbody>\n    <tr>\n      <th>0</th>\n      <td>---kPU91CF4Lq2-WlRu9Lw</td>\n      <td>2020-03-13 21:10:56, 2020-06-02 22:18:06, 2020...</td>\n    </tr>\n    <tr>\n      <th>1</th>\n      <td>--0iUa4sNDFiZFrAdIWhZQ</td>\n      <td>2010-09-13 21:43:09, 2011-05-04 23:08:15, 2011...</td>\n    </tr>\n    <tr>\n      <th>2</th>\n      <td>--30_8IhuyMHbSOcNWd6DQ</td>\n      <td>2013-06-14 23:29:17, 2014-08-13 23:20:22</td>\n    </tr>\n    <tr>\n      <th>3</th>\n      <td>--7PUidqRWpRSpXebiyxTg</td>\n      <td>2011-02-15 17:12:00, 2011-07-28 02:46:10, 2012...</td>\n    </tr>\n    <tr>\n      <th>4</th>\n      <td>--7jw19RH9JKXgFohspgQw</td>\n      <td>2014-04-21 20:42:11, 2014-04-28 21:04:46, 2014...</td>\n    </tr>\n  </tbody>\n</table>\n</div>"
     },
     "execution_count": 13,
     "metadata": {},
     "output_type": "execute_result"
    }
   ],
   "source": [
    "df_checkin = pd.read_json('../infovis-project/yelp_data/yelp_academic_dataset_checkin.json', lines=True)\n",
    "\n",
    "df_checkin.head(5)"
   ],
   "metadata": {
    "collapsed": false,
    "pycharm": {
     "name": "#%%\n"
    }
   }
  },
  {
   "cell_type": "code",
   "execution_count": 14,
   "outputs": [
    {
     "data": {
      "text/plain": "business_id        0\nname               0\ncity               0\nstate              0\nlatitude           0\nlongitude          0\nstars              0\nreview_count       0\nis_open            0\ncategories         0\nhours           7276\ndtype: int64"
     },
     "execution_count": 14,
     "metadata": {},
     "output_type": "execute_result"
    }
   ],
   "source": [
    "df_checkin.rename(columns={'date':'checkins'}, inplace=True)\n",
    "\n",
    "df_processed = pd.merge(left=df_processed, right=df_checkin, how='inner', on='business_id')\n",
    "\n",
    "df_processed.isnull().sum()"
   ],
   "metadata": {
    "collapsed": false,
    "pycharm": {
     "name": "#%%\n"
    }
   }
  },
  {
   "cell_type": "code",
   "execution_count": 17,
   "outputs": [
    {
     "data": {
      "text/plain": "              business_id                   name          city state  \\\n0  MTSW4McQd7CbVtyjqoe9mw     St Honore Pastries  Philadelphia    PA   \n1  CF33F8-E6oudUQ46HnavjQ         Sonic Drive-In  Ashland City    TN   \n2  k0hlBqXX-Bt0vf1op7Jr1w  Tsevi's Pub And Grill        Affton    MO   \n3  bBDDEgkFA1Otx9Lfe7BZUQ         Sonic Drive-In     Nashville    TN   \n4  eEOYSgkmpB90uNA7lDOMRA  Vietnamese Food Truck     Tampa Bay    FL   \n\n    latitude  longitude  stars  review_count  is_open  \\\n0  39.955505 -75.155564    4.0            80        1   \n1  36.269593 -87.058943    2.0             6        1   \n2  38.565165 -90.321087    3.0            19        0   \n3  36.208102 -86.768170    1.5            10        1   \n4  27.955269 -82.456320    4.0            10        1   \n\n                                          categories  ... star_1  star_2  \\\n0  Restaurants, Food, Bubble Tea, Coffee & Tea, B...  ...      5       4   \n1  Burgers, Fast Food, Sandwiches, Food, Ice Crea...  ...      3       1   \n2  Pubs, Restaurants, Italian, Bars, American (Tr...  ...      6       2   \n3  Ice Cream & Frozen Yogurt, Fast Food, Burgers,...  ...      7       1   \n4         Vietnamese, Food, Restaurants, Food Trucks  ...      1       0   \n\n   star_3  star_4  star_5                                       review_dates  \\\n0       9      31      37  [2013-10-05T15:19:06.000000000, 2013-10-25T01:...   \n1       0       2       0  [2012-12-18T08:45:44.000000000, 2013-07-08T00:...   \n2       1       7       3  [2014-02-25T22:34:59.000000000, 2013-01-29T04:...   \n3       1       0       1  [2016-11-11T04:01:28.000000000, 2011-07-01T23:...   \n4       2       2       6  [2019-04-04T16:03:00.000000000, 2018-10-23T00:...   \n\n   avg_review_age  est_business_age  hours_per_week  \\\n0            7.45             13.66            94.0   \n1            5.07              8.22            84.0   \n2            9.47              2.25             NaN   \n3            4.60              9.80            76.0   \n4            3.35              3.45            23.0   \n\n                                            checkins  \n0  2010-08-18 17:05:36, 2010-11-25 17:45:31, 2011...  \n1  2012-12-16 05:27:33, 2013-02-15 04:00:46, 2013...  \n2  2012-04-16 22:28:12, 2012-04-20 22:38:55, 2012...  \n3  2011-01-17 15:31:21, 2011-02-23 21:28:08, 2011...  \n4  2018-07-19 20:23:33, 2019-07-12 15:37:41, 2019...  \n\n[5 rows x 32 columns]",
      "text/html": "<div>\n<style scoped>\n    .dataframe tbody tr th:only-of-type {\n        vertical-align: middle;\n    }\n\n    .dataframe tbody tr th {\n        vertical-align: top;\n    }\n\n    .dataframe thead th {\n        text-align: right;\n    }\n</style>\n<table border=\"1\" class=\"dataframe\">\n  <thead>\n    <tr style=\"text-align: right;\">\n      <th></th>\n      <th>business_id</th>\n      <th>name</th>\n      <th>city</th>\n      <th>state</th>\n      <th>latitude</th>\n      <th>longitude</th>\n      <th>stars</th>\n      <th>review_count</th>\n      <th>is_open</th>\n      <th>categories</th>\n      <th>...</th>\n      <th>star_1</th>\n      <th>star_2</th>\n      <th>star_3</th>\n      <th>star_4</th>\n      <th>star_5</th>\n      <th>review_dates</th>\n      <th>avg_review_age</th>\n      <th>est_business_age</th>\n      <th>hours_per_week</th>\n      <th>checkins</th>\n    </tr>\n  </thead>\n  <tbody>\n    <tr>\n      <th>0</th>\n      <td>MTSW4McQd7CbVtyjqoe9mw</td>\n      <td>St Honore Pastries</td>\n      <td>Philadelphia</td>\n      <td>PA</td>\n      <td>39.955505</td>\n      <td>-75.155564</td>\n      <td>4.0</td>\n      <td>80</td>\n      <td>1</td>\n      <td>Restaurants, Food, Bubble Tea, Coffee &amp; Tea, B...</td>\n      <td>...</td>\n      <td>5</td>\n      <td>4</td>\n      <td>9</td>\n      <td>31</td>\n      <td>37</td>\n      <td>[2013-10-05T15:19:06.000000000, 2013-10-25T01:...</td>\n      <td>7.45</td>\n      <td>13.66</td>\n      <td>94.0</td>\n      <td>2010-08-18 17:05:36, 2010-11-25 17:45:31, 2011...</td>\n    </tr>\n    <tr>\n      <th>1</th>\n      <td>CF33F8-E6oudUQ46HnavjQ</td>\n      <td>Sonic Drive-In</td>\n      <td>Ashland City</td>\n      <td>TN</td>\n      <td>36.269593</td>\n      <td>-87.058943</td>\n      <td>2.0</td>\n      <td>6</td>\n      <td>1</td>\n      <td>Burgers, Fast Food, Sandwiches, Food, Ice Crea...</td>\n      <td>...</td>\n      <td>3</td>\n      <td>1</td>\n      <td>0</td>\n      <td>2</td>\n      <td>0</td>\n      <td>[2012-12-18T08:45:44.000000000, 2013-07-08T00:...</td>\n      <td>5.07</td>\n      <td>8.22</td>\n      <td>84.0</td>\n      <td>2012-12-16 05:27:33, 2013-02-15 04:00:46, 2013...</td>\n    </tr>\n    <tr>\n      <th>2</th>\n      <td>k0hlBqXX-Bt0vf1op7Jr1w</td>\n      <td>Tsevi's Pub And Grill</td>\n      <td>Affton</td>\n      <td>MO</td>\n      <td>38.565165</td>\n      <td>-90.321087</td>\n      <td>3.0</td>\n      <td>19</td>\n      <td>0</td>\n      <td>Pubs, Restaurants, Italian, Bars, American (Tr...</td>\n      <td>...</td>\n      <td>6</td>\n      <td>2</td>\n      <td>1</td>\n      <td>7</td>\n      <td>3</td>\n      <td>[2014-02-25T22:34:59.000000000, 2013-01-29T04:...</td>\n      <td>9.47</td>\n      <td>2.25</td>\n      <td>NaN</td>\n      <td>2012-04-16 22:28:12, 2012-04-20 22:38:55, 2012...</td>\n    </tr>\n    <tr>\n      <th>3</th>\n      <td>bBDDEgkFA1Otx9Lfe7BZUQ</td>\n      <td>Sonic Drive-In</td>\n      <td>Nashville</td>\n      <td>TN</td>\n      <td>36.208102</td>\n      <td>-86.768170</td>\n      <td>1.5</td>\n      <td>10</td>\n      <td>1</td>\n      <td>Ice Cream &amp; Frozen Yogurt, Fast Food, Burgers,...</td>\n      <td>...</td>\n      <td>7</td>\n      <td>1</td>\n      <td>1</td>\n      <td>0</td>\n      <td>1</td>\n      <td>[2016-11-11T04:01:28.000000000, 2011-07-01T23:...</td>\n      <td>4.60</td>\n      <td>9.80</td>\n      <td>76.0</td>\n      <td>2011-01-17 15:31:21, 2011-02-23 21:28:08, 2011...</td>\n    </tr>\n    <tr>\n      <th>4</th>\n      <td>eEOYSgkmpB90uNA7lDOMRA</td>\n      <td>Vietnamese Food Truck</td>\n      <td>Tampa Bay</td>\n      <td>FL</td>\n      <td>27.955269</td>\n      <td>-82.456320</td>\n      <td>4.0</td>\n      <td>10</td>\n      <td>1</td>\n      <td>Vietnamese, Food, Restaurants, Food Trucks</td>\n      <td>...</td>\n      <td>1</td>\n      <td>0</td>\n      <td>2</td>\n      <td>2</td>\n      <td>6</td>\n      <td>[2019-04-04T16:03:00.000000000, 2018-10-23T00:...</td>\n      <td>3.35</td>\n      <td>3.45</td>\n      <td>23.0</td>\n      <td>2018-07-19 20:23:33, 2019-07-12 15:37:41, 2019...</td>\n    </tr>\n  </tbody>\n</table>\n<p>5 rows × 32 columns</p>\n</div>"
     },
     "execution_count": 17,
     "metadata": {},
     "output_type": "execute_result"
    }
   ],
   "source": [
    "df_processed.head(5)"
   ],
   "metadata": {
    "collapsed": false,
    "pycharm": {
     "name": "#%%\n"
    }
   }
  },
  {
   "cell_type": "code",
   "execution_count": 18,
   "outputs": [],
   "source": [
    "df_processed.to_csv('../infovis-project/processed_data/business_review_fused.gzip', compression='gzip')"
   ],
   "metadata": {
    "collapsed": false,
    "pycharm": {
     "name": "#%%\n"
    }
   }
  }
 ],
 "metadata": {
  "kernelspec": {
   "display_name": "Python 3",
   "language": "python",
   "name": "python3"
  },
  "language_info": {
   "codemirror_mode": {
    "name": "ipython",
    "version": 2
   },
   "file_extension": ".py",
   "mimetype": "text/x-python",
   "name": "python",
   "nbconvert_exporter": "python",
   "pygments_lexer": "ipython2",
   "version": "2.7.6"
  }
 },
 "nbformat": 4,
 "nbformat_minor": 0
}